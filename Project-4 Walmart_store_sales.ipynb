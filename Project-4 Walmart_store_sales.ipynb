{
 "cells": [
  {
   "cell_type": "markdown",
   "id": "128d1538",
   "metadata": {},
   "source": [
    "## Project-4   'Walmart_Store_sales'"
   ]
  },
  {
   "cell_type": "markdown",
   "id": "af9df6e1",
   "metadata": {},
   "source": [
    "DESCRIPTION\n",
    "One of the leading retail stores in the US, Walmart, would like to predict the sales and demand accurately. There are certain events and holidays which impact sales on each day. There are sales data available for 45 stores of Walmart. The business is facing a challenge due to unforeseen demands and runs out of stock some times, due to the inappropriate machine learning algorithm. An ideal ML algorithm will predict demand accurately and ingest factors like economic conditions including CPI, Unemployment Index, etc.\n",
    "Walmart runs several promotional markdown events throughout the year. These markdowns precede prominent holidays, the four largest of all, which are the Super Bowl, Labour Day, Thanksgiving, and Christmas. The weeks including these holidays are weighted five times higher in the evaluation than non-holiday weeks. Part of the challenge presented by this competition is modeling the effects of markdowns on these holiday weeks in the absence of complete/ideal historical data. Historical sales data for 45 Walmart stores located in different regions are available.\n",
    "Dataset Description\n",
    "This is the historical data that covers sales from 2010-02-05 to 2012-11-01, in the file Walmart_Store_sales. Within this file you will find the following fields:\n",
    "•\tStore - the store number\n",
    "•\tDate - the week of sales\n",
    "•\tWeekly_Sales -  sales for the given store\n",
    "•\tHoliday_Flag - whether the week is a special holiday week 1 – Holiday week 0 – Non-holiday week\n",
    "•\tTemperature - Temperature on the day of sale\n",
    "•\tFuel_Price - Cost of fuel in the region\n",
    "•\tCPI – Prevailing consumer price index\n",
    "•\tUnemployment - Prevailing unemployment rate\n",
    "Holiday Events\n",
    "Super Bowl: 12-Feb-10, 11-Feb-11, 10-Feb-12, 8-Feb-13\n",
    "Labour Day: 10-Sep-10, 9-Sep-11, 7-Sep-12, 6-Sep-13\n",
    "Thanksgiving: 26-Nov-10, 25-Nov-11, 23-Nov-12, 29-Nov-13\n",
    "Christmas: 31-Dec-10, 30-Dec-11, 28-Dec-12, 27-Dec-13\n",
    "Analysis Tasks\n",
    "Basic Statistics tasks\n",
    "•\tWhich store has maximum sales\n",
    "•\tWhich store has maximum standard deviation i.e., the sales vary a lot. Also, find out the coefficient of mean to standard deviation\n",
    "•\tWhich store/s has good quarterly growth rate in Q3’2012\n",
    "•\tSome holidays have a negative impact on sales. Find out holidays which have higher sales than the mean sales in non-holiday season for all stores together\n",
    "•\tProvide a monthly and semester view of sales in units and give insights\n",
    "Statistical Model\n",
    "For Store 1 – Build  prediction models to forecast demand\n",
    "•\tLinear Regression – Utilize variables like date and restructure dates as 1 for 5 Feb 2010 (starting from the earliest date in order). Hypothesize if CPI, unemployment, and fuel price have any impact on sales.\n",
    "•\tChange dates into days by creating new variable.\n",
    "Select the model which gives best accuracy.\n",
    "\n"
   ]
  },
  {
   "cell_type": "code",
   "execution_count": 1,
   "id": "ac5dcdad",
   "metadata": {},
   "outputs": [],
   "source": [
    "#Importing required libraries---------------------\n",
    "\n",
    "import pandas as pd \n",
    "import numpy as np\n",
    "from datetime import date\n",
    "import matplotlib.pyplot as plt\n",
    "import seaborn as sns"
   ]
  },
  {
   "cell_type": "code",
   "execution_count": 2,
   "id": "6f6a5a41",
   "metadata": {},
   "outputs": [
    {
     "data": {
      "text/html": [
       "<div>\n",
       "<style scoped>\n",
       "    .dataframe tbody tr th:only-of-type {\n",
       "        vertical-align: middle;\n",
       "    }\n",
       "\n",
       "    .dataframe tbody tr th {\n",
       "        vertical-align: top;\n",
       "    }\n",
       "\n",
       "    .dataframe thead th {\n",
       "        text-align: right;\n",
       "    }\n",
       "</style>\n",
       "<table border=\"1\" class=\"dataframe\">\n",
       "  <thead>\n",
       "    <tr style=\"text-align: right;\">\n",
       "      <th></th>\n",
       "      <th>Store</th>\n",
       "      <th>Date</th>\n",
       "      <th>Weekly_Sales</th>\n",
       "      <th>Holiday_Flag</th>\n",
       "      <th>Temperature</th>\n",
       "      <th>Fuel_Price</th>\n",
       "      <th>CPI</th>\n",
       "      <th>Unemployment</th>\n",
       "    </tr>\n",
       "  </thead>\n",
       "  <tbody>\n",
       "    <tr>\n",
       "      <th>0</th>\n",
       "      <td>1</td>\n",
       "      <td>05-02-2010</td>\n",
       "      <td>1643690.90</td>\n",
       "      <td>0</td>\n",
       "      <td>42.31</td>\n",
       "      <td>2.572</td>\n",
       "      <td>211.096358</td>\n",
       "      <td>8.106</td>\n",
       "    </tr>\n",
       "    <tr>\n",
       "      <th>1</th>\n",
       "      <td>1</td>\n",
       "      <td>12-02-2010</td>\n",
       "      <td>1641957.44</td>\n",
       "      <td>1</td>\n",
       "      <td>38.51</td>\n",
       "      <td>2.548</td>\n",
       "      <td>211.242170</td>\n",
       "      <td>8.106</td>\n",
       "    </tr>\n",
       "    <tr>\n",
       "      <th>2</th>\n",
       "      <td>1</td>\n",
       "      <td>19-02-2010</td>\n",
       "      <td>1611968.17</td>\n",
       "      <td>0</td>\n",
       "      <td>39.93</td>\n",
       "      <td>2.514</td>\n",
       "      <td>211.289143</td>\n",
       "      <td>8.106</td>\n",
       "    </tr>\n",
       "    <tr>\n",
       "      <th>3</th>\n",
       "      <td>1</td>\n",
       "      <td>26-02-2010</td>\n",
       "      <td>1409727.59</td>\n",
       "      <td>0</td>\n",
       "      <td>46.63</td>\n",
       "      <td>2.561</td>\n",
       "      <td>211.319643</td>\n",
       "      <td>8.106</td>\n",
       "    </tr>\n",
       "    <tr>\n",
       "      <th>4</th>\n",
       "      <td>1</td>\n",
       "      <td>05-03-2010</td>\n",
       "      <td>1554806.68</td>\n",
       "      <td>0</td>\n",
       "      <td>46.50</td>\n",
       "      <td>2.625</td>\n",
       "      <td>211.350143</td>\n",
       "      <td>8.106</td>\n",
       "    </tr>\n",
       "    <tr>\n",
       "      <th>...</th>\n",
       "      <td>...</td>\n",
       "      <td>...</td>\n",
       "      <td>...</td>\n",
       "      <td>...</td>\n",
       "      <td>...</td>\n",
       "      <td>...</td>\n",
       "      <td>...</td>\n",
       "      <td>...</td>\n",
       "    </tr>\n",
       "    <tr>\n",
       "      <th>6430</th>\n",
       "      <td>45</td>\n",
       "      <td>28-09-2012</td>\n",
       "      <td>713173.95</td>\n",
       "      <td>0</td>\n",
       "      <td>64.88</td>\n",
       "      <td>3.997</td>\n",
       "      <td>192.013558</td>\n",
       "      <td>8.684</td>\n",
       "    </tr>\n",
       "    <tr>\n",
       "      <th>6431</th>\n",
       "      <td>45</td>\n",
       "      <td>05-10-2012</td>\n",
       "      <td>733455.07</td>\n",
       "      <td>0</td>\n",
       "      <td>64.89</td>\n",
       "      <td>3.985</td>\n",
       "      <td>192.170412</td>\n",
       "      <td>8.667</td>\n",
       "    </tr>\n",
       "    <tr>\n",
       "      <th>6432</th>\n",
       "      <td>45</td>\n",
       "      <td>12-10-2012</td>\n",
       "      <td>734464.36</td>\n",
       "      <td>0</td>\n",
       "      <td>54.47</td>\n",
       "      <td>4.000</td>\n",
       "      <td>192.327265</td>\n",
       "      <td>8.667</td>\n",
       "    </tr>\n",
       "    <tr>\n",
       "      <th>6433</th>\n",
       "      <td>45</td>\n",
       "      <td>19-10-2012</td>\n",
       "      <td>718125.53</td>\n",
       "      <td>0</td>\n",
       "      <td>56.47</td>\n",
       "      <td>3.969</td>\n",
       "      <td>192.330854</td>\n",
       "      <td>8.667</td>\n",
       "    </tr>\n",
       "    <tr>\n",
       "      <th>6434</th>\n",
       "      <td>45</td>\n",
       "      <td>26-10-2012</td>\n",
       "      <td>760281.43</td>\n",
       "      <td>0</td>\n",
       "      <td>58.85</td>\n",
       "      <td>3.882</td>\n",
       "      <td>192.308899</td>\n",
       "      <td>8.667</td>\n",
       "    </tr>\n",
       "  </tbody>\n",
       "</table>\n",
       "<p>6435 rows × 8 columns</p>\n",
       "</div>"
      ],
      "text/plain": [
       "      Store        Date  Weekly_Sales  Holiday_Flag  Temperature  Fuel_Price  \\\n",
       "0         1  05-02-2010    1643690.90             0        42.31       2.572   \n",
       "1         1  12-02-2010    1641957.44             1        38.51       2.548   \n",
       "2         1  19-02-2010    1611968.17             0        39.93       2.514   \n",
       "3         1  26-02-2010    1409727.59             0        46.63       2.561   \n",
       "4         1  05-03-2010    1554806.68             0        46.50       2.625   \n",
       "...     ...         ...           ...           ...          ...         ...   \n",
       "6430     45  28-09-2012     713173.95             0        64.88       3.997   \n",
       "6431     45  05-10-2012     733455.07             0        64.89       3.985   \n",
       "6432     45  12-10-2012     734464.36             0        54.47       4.000   \n",
       "6433     45  19-10-2012     718125.53             0        56.47       3.969   \n",
       "6434     45  26-10-2012     760281.43             0        58.85       3.882   \n",
       "\n",
       "             CPI  Unemployment  \n",
       "0     211.096358         8.106  \n",
       "1     211.242170         8.106  \n",
       "2     211.289143         8.106  \n",
       "3     211.319643         8.106  \n",
       "4     211.350143         8.106  \n",
       "...          ...           ...  \n",
       "6430  192.013558         8.684  \n",
       "6431  192.170412         8.667  \n",
       "6432  192.327265         8.667  \n",
       "6433  192.330854         8.667  \n",
       "6434  192.308899         8.667  \n",
       "\n",
       "[6435 rows x 8 columns]"
      ]
     },
     "execution_count": 2,
     "metadata": {},
     "output_type": "execute_result"
    }
   ],
   "source": [
    "# Importing walmart store data-----------------------------\n",
    "data = pd.read_csv('Walmart_Store_sales.csv')\n",
    "data"
   ]
  },
  {
   "cell_type": "code",
   "execution_count": 3,
   "id": "4bf6bc96",
   "metadata": {},
   "outputs": [
    {
     "name": "stdout",
     "output_type": "stream",
     "text": [
      "<class 'pandas.core.frame.DataFrame'>\n",
      "RangeIndex: 6435 entries, 0 to 6434\n",
      "Data columns (total 8 columns):\n",
      " #   Column        Non-Null Count  Dtype  \n",
      "---  ------        --------------  -----  \n",
      " 0   Store         6435 non-null   int64  \n",
      " 1   Date          6435 non-null   object \n",
      " 2   Weekly_Sales  6435 non-null   float64\n",
      " 3   Holiday_Flag  6435 non-null   int64  \n",
      " 4   Temperature   6435 non-null   float64\n",
      " 5   Fuel_Price    6435 non-null   float64\n",
      " 6   CPI           6435 non-null   float64\n",
      " 7   Unemployment  6435 non-null   float64\n",
      "dtypes: float64(5), int64(2), object(1)\n",
      "memory usage: 402.3+ KB\n"
     ]
    }
   ],
   "source": [
    "# To understand the basic information of the dataset we uses \"info\" function\n",
    "\n",
    "data.info()"
   ]
  },
  {
   "cell_type": "code",
   "execution_count": 4,
   "id": "25809eea",
   "metadata": {},
   "outputs": [
    {
     "data": {
      "text/plain": [
       "Store           0\n",
       "Date            0\n",
       "Weekly_Sales    0\n",
       "Holiday_Flag    0\n",
       "Temperature     0\n",
       "Fuel_Price      0\n",
       "CPI             0\n",
       "Unemployment    0\n",
       "dtype: int64"
      ]
     },
     "execution_count": 4,
     "metadata": {},
     "output_type": "execute_result"
    }
   ],
   "source": [
    "# Checking the null values in the data-------------\n",
    "\n",
    "data.isnull().sum()"
   ]
  },
  {
   "cell_type": "markdown",
   "id": "01a69dab",
   "metadata": {},
   "source": [
    "There is zero null values in the dataset"
   ]
  },
  {
   "cell_type": "markdown",
   "id": "cdcfd2cc",
   "metadata": {},
   "source": [
    "## Basic Statistics tasks"
   ]
  },
  {
   "cell_type": "markdown",
   "id": "1246323f",
   "metadata": {},
   "source": [
    "## I - Store which has the maximumsales"
   ]
  },
  {
   "cell_type": "code",
   "execution_count": 5,
   "id": "fa3cf442",
   "metadata": {},
   "outputs": [
    {
     "data": {
      "text/plain": [
       "Store\n",
       "14    3818686.45\n",
       "Name: Weekly_Sales, dtype: float64"
      ]
     },
     "execution_count": 5,
     "metadata": {},
     "output_type": "execute_result"
    }
   ],
   "source": [
    "#using groupby function finding out which store has the maximum sales\n",
    "\n",
    "data.groupby('Store').agg({'Weekly_Sales': 'max'})['Weekly_Sales'].nlargest(1)\n"
   ]
  },
  {
   "cell_type": "markdown",
   "id": "9957c0f3",
   "metadata": {},
   "source": [
    "Therefore store 14 has the maximum sales"
   ]
  },
  {
   "cell_type": "markdown",
   "id": "7aae92d2",
   "metadata": {},
   "source": [
    "## II- Store has maximum standard deviation \n"
   ]
  },
  {
   "cell_type": "code",
   "execution_count": 7,
   "id": "56ba0c78",
   "metadata": {},
   "outputs": [
    {
     "data": {
      "text/html": [
       "<div>\n",
       "<style scoped>\n",
       "    .dataframe tbody tr th:only-of-type {\n",
       "        vertical-align: middle;\n",
       "    }\n",
       "\n",
       "    .dataframe tbody tr th {\n",
       "        vertical-align: top;\n",
       "    }\n",
       "\n",
       "    .dataframe thead tr th {\n",
       "        text-align: left;\n",
       "    }\n",
       "</style>\n",
       "<table border=\"1\" class=\"dataframe\">\n",
       "  <thead>\n",
       "    <tr>\n",
       "      <th></th>\n",
       "      <th>Store</th>\n",
       "      <th colspan=\"2\" halign=\"left\">Weekly_Sales</th>\n",
       "      <th>CoV</th>\n",
       "    </tr>\n",
       "    <tr>\n",
       "      <th></th>\n",
       "      <th></th>\n",
       "      <th>std</th>\n",
       "      <th>mean</th>\n",
       "      <th></th>\n",
       "    </tr>\n",
       "  </thead>\n",
       "  <tbody>\n",
       "    <tr>\n",
       "      <th>13</th>\n",
       "      <td>14</td>\n",
       "      <td>317569.949476</td>\n",
       "      <td>2.020978e+06</td>\n",
       "      <td>15.713674</td>\n",
       "    </tr>\n",
       "  </tbody>\n",
       "</table>\n",
       "</div>"
      ],
      "text/plain": [
       "   Store   Weekly_Sales                      CoV\n",
       "                    std          mean           \n",
       "13    14  317569.949476  2.020978e+06  15.713674"
      ]
     },
     "execution_count": 7,
     "metadata": {},
     "output_type": "execute_result"
    }
   ],
   "source": [
    "#Here using grouping by store and finding the standard deviation and mean of each store.\n",
    "maximum_std=pd.DataFrame(data.groupby('Store').agg({'Weekly_Sales':['std','mean']}))\n",
    "\n",
    "maximum_std = maximum_std.reset_index()\n",
    "\n",
    "\n",
    "##coefficient of mean to standard deviation\n",
    "\n",
    "#we know that CoV is std/ mean we are doing this for each store.\n",
    "\n",
    "maximum_std['CoV'] =(maximum_std[('Weekly_Sales','std')]/maximum_std[('Weekly_Sales','mean')]) *100\n",
    "maximum_std.loc[maximum_std[('Weekly_Sales','std')]==maximum_std[('Weekly_Sales','std')].max()]"
   ]
  },
  {
   "cell_type": "markdown",
   "id": "c4c6243d",
   "metadata": {},
   "source": [
    "The Store 14 has the maximum standard deviation which we can conclude that sales in store 14 varies most."
   ]
  },
  {
   "cell_type": "markdown",
   "id": "2ebd3783",
   "metadata": {},
   "source": [
    "## III- Growth rate in Q3’2012"
   ]
  },
  {
   "cell_type": "markdown",
   "id": "cd911d4f",
   "metadata": {},
   "source": [
    "Finding which store has the good growth rate in Quarter3-2012."
   ]
  },
  {
   "cell_type": "code",
   "execution_count": 8,
   "id": "42e0d29a",
   "metadata": {},
   "outputs": [
    {
     "data": {
      "text/html": [
       "<div>\n",
       "<style scoped>\n",
       "    .dataframe tbody tr th:only-of-type {\n",
       "        vertical-align: middle;\n",
       "    }\n",
       "\n",
       "    .dataframe tbody tr th {\n",
       "        vertical-align: top;\n",
       "    }\n",
       "\n",
       "    .dataframe thead th {\n",
       "        text-align: right;\n",
       "    }\n",
       "</style>\n",
       "<table border=\"1\" class=\"dataframe\">\n",
       "  <thead>\n",
       "    <tr style=\"text-align: right;\">\n",
       "      <th></th>\n",
       "      <th>Store</th>\n",
       "      <th>Date</th>\n",
       "      <th>Weekly_Sales</th>\n",
       "      <th>Holiday_Flag</th>\n",
       "      <th>Temperature</th>\n",
       "      <th>Fuel_Price</th>\n",
       "      <th>CPI</th>\n",
       "      <th>Unemployment</th>\n",
       "    </tr>\n",
       "  </thead>\n",
       "  <tbody>\n",
       "    <tr>\n",
       "      <th>0</th>\n",
       "      <td>1</td>\n",
       "      <td>2010-05-02</td>\n",
       "      <td>1643690.90</td>\n",
       "      <td>0</td>\n",
       "      <td>42.31</td>\n",
       "      <td>2.572</td>\n",
       "      <td>211.096358</td>\n",
       "      <td>8.106</td>\n",
       "    </tr>\n",
       "    <tr>\n",
       "      <th>1</th>\n",
       "      <td>1</td>\n",
       "      <td>2010-12-02</td>\n",
       "      <td>1641957.44</td>\n",
       "      <td>1</td>\n",
       "      <td>38.51</td>\n",
       "      <td>2.548</td>\n",
       "      <td>211.242170</td>\n",
       "      <td>8.106</td>\n",
       "    </tr>\n",
       "    <tr>\n",
       "      <th>2</th>\n",
       "      <td>1</td>\n",
       "      <td>2010-02-19</td>\n",
       "      <td>1611968.17</td>\n",
       "      <td>0</td>\n",
       "      <td>39.93</td>\n",
       "      <td>2.514</td>\n",
       "      <td>211.289143</td>\n",
       "      <td>8.106</td>\n",
       "    </tr>\n",
       "    <tr>\n",
       "      <th>3</th>\n",
       "      <td>1</td>\n",
       "      <td>2010-02-26</td>\n",
       "      <td>1409727.59</td>\n",
       "      <td>0</td>\n",
       "      <td>46.63</td>\n",
       "      <td>2.561</td>\n",
       "      <td>211.319643</td>\n",
       "      <td>8.106</td>\n",
       "    </tr>\n",
       "    <tr>\n",
       "      <th>4</th>\n",
       "      <td>1</td>\n",
       "      <td>2010-05-03</td>\n",
       "      <td>1554806.68</td>\n",
       "      <td>0</td>\n",
       "      <td>46.50</td>\n",
       "      <td>2.625</td>\n",
       "      <td>211.350143</td>\n",
       "      <td>8.106</td>\n",
       "    </tr>\n",
       "    <tr>\n",
       "      <th>...</th>\n",
       "      <td>...</td>\n",
       "      <td>...</td>\n",
       "      <td>...</td>\n",
       "      <td>...</td>\n",
       "      <td>...</td>\n",
       "      <td>...</td>\n",
       "      <td>...</td>\n",
       "      <td>...</td>\n",
       "    </tr>\n",
       "    <tr>\n",
       "      <th>6430</th>\n",
       "      <td>45</td>\n",
       "      <td>2012-09-28</td>\n",
       "      <td>713173.95</td>\n",
       "      <td>0</td>\n",
       "      <td>64.88</td>\n",
       "      <td>3.997</td>\n",
       "      <td>192.013558</td>\n",
       "      <td>8.684</td>\n",
       "    </tr>\n",
       "    <tr>\n",
       "      <th>6431</th>\n",
       "      <td>45</td>\n",
       "      <td>2012-05-10</td>\n",
       "      <td>733455.07</td>\n",
       "      <td>0</td>\n",
       "      <td>64.89</td>\n",
       "      <td>3.985</td>\n",
       "      <td>192.170412</td>\n",
       "      <td>8.667</td>\n",
       "    </tr>\n",
       "    <tr>\n",
       "      <th>6432</th>\n",
       "      <td>45</td>\n",
       "      <td>2012-12-10</td>\n",
       "      <td>734464.36</td>\n",
       "      <td>0</td>\n",
       "      <td>54.47</td>\n",
       "      <td>4.000</td>\n",
       "      <td>192.327265</td>\n",
       "      <td>8.667</td>\n",
       "    </tr>\n",
       "    <tr>\n",
       "      <th>6433</th>\n",
       "      <td>45</td>\n",
       "      <td>2012-10-19</td>\n",
       "      <td>718125.53</td>\n",
       "      <td>0</td>\n",
       "      <td>56.47</td>\n",
       "      <td>3.969</td>\n",
       "      <td>192.330854</td>\n",
       "      <td>8.667</td>\n",
       "    </tr>\n",
       "    <tr>\n",
       "      <th>6434</th>\n",
       "      <td>45</td>\n",
       "      <td>2012-10-26</td>\n",
       "      <td>760281.43</td>\n",
       "      <td>0</td>\n",
       "      <td>58.85</td>\n",
       "      <td>3.882</td>\n",
       "      <td>192.308899</td>\n",
       "      <td>8.667</td>\n",
       "    </tr>\n",
       "  </tbody>\n",
       "</table>\n",
       "<p>6435 rows × 8 columns</p>\n",
       "</div>"
      ],
      "text/plain": [
       "      Store       Date  Weekly_Sales  Holiday_Flag  Temperature  Fuel_Price  \\\n",
       "0         1 2010-05-02    1643690.90             0        42.31       2.572   \n",
       "1         1 2010-12-02    1641957.44             1        38.51       2.548   \n",
       "2         1 2010-02-19    1611968.17             0        39.93       2.514   \n",
       "3         1 2010-02-26    1409727.59             0        46.63       2.561   \n",
       "4         1 2010-05-03    1554806.68             0        46.50       2.625   \n",
       "...     ...        ...           ...           ...          ...         ...   \n",
       "6430     45 2012-09-28     713173.95             0        64.88       3.997   \n",
       "6431     45 2012-05-10     733455.07             0        64.89       3.985   \n",
       "6432     45 2012-12-10     734464.36             0        54.47       4.000   \n",
       "6433     45 2012-10-19     718125.53             0        56.47       3.969   \n",
       "6434     45 2012-10-26     760281.43             0        58.85       3.882   \n",
       "\n",
       "             CPI  Unemployment  \n",
       "0     211.096358         8.106  \n",
       "1     211.242170         8.106  \n",
       "2     211.289143         8.106  \n",
       "3     211.319643         8.106  \n",
       "4     211.350143         8.106  \n",
       "...          ...           ...  \n",
       "6430  192.013558         8.684  \n",
       "6431  192.170412         8.667  \n",
       "6432  192.327265         8.667  \n",
       "6433  192.330854         8.667  \n",
       "6434  192.308899         8.667  \n",
       "\n",
       "[6435 rows x 8 columns]"
      ]
     },
     "execution_count": 8,
     "metadata": {},
     "output_type": "execute_result"
    }
   ],
   "source": [
    "#Converting the data type of date column to dateTime \n",
    "data['Date'] = pd.to_datetime(data['Date'])\n",
    "data"
   ]
  },
  {
   "cell_type": "code",
   "execution_count": 9,
   "id": "8fe8481f",
   "metadata": {},
   "outputs": [],
   "source": [
    "#defining the starting and ending dates of Q3 and Q2\n",
    "\n",
    "Q3_date_from = pd.Timestamp(date(2012,7,1))\n",
    "Q3_date_to = pd.Timestamp(date(2012,9,30))\n",
    "\n",
    "Q2_date_from = pd.Timestamp(date(2012,4,1))\n",
    "Q2_date_to = pd.Timestamp(date(2012,6,30))\n",
    "\n"
   ]
  },
  {
   "cell_type": "code",
   "execution_count": 10,
   "id": "f7079fa7",
   "metadata": {},
   "outputs": [],
   "source": [
    "\n",
    "\n",
    "#Collecting the data of Q3 and Q2 from original dataset.\n",
    "Q2data=data[(data['Date'] > Q2_date_from) & (data['Date'] < Q2_date_to)]\n",
    "Q3data=data[(data['Date'] > Q3_date_from) & (data['Date'] < Q3_date_to)]\n",
    "\n",
    "\n"
   ]
  },
  {
   "cell_type": "code",
   "execution_count": 11,
   "id": "f2435f87",
   "metadata": {},
   "outputs": [],
   "source": [
    "#finding the sum weekly_sales of each store in Quarter2  (Q2)------------------------------\n",
    "\n",
    "Q2 = pd.DataFrame(Q2data.groupby('Store')['Weekly_Sales'].sum())\n",
    "Q2.reset_index(inplace=True)\n",
    "Q2.rename(columns={'Weekly_Sales': 'Q2_Weekly_Sales'},inplace=True)\n",
    "\n",
    "\n",
    "#finding the sum weekly sales of each store in Quarter3  (Q3)-----------------------------\n",
    "\n",
    "Q3 = pd.DataFrame(Q3data.groupby('Store')['Weekly_Sales'].sum())\n",
    "Q3.reset_index(inplace=True)\n",
    "Q3.rename(columns={'Weekly_Sales': 'Q3_Weekly_Sales'},inplace=True)\n",
    "\n",
    "\n",
    "#Mergeing Q2 and Q3 data on Store as a common column----------------------------\n",
    "\n",
    "Q3_Growth= Q2.merge(Q3,how='inner',on='Store')\n"
   ]
  },
  {
   "cell_type": "code",
   "execution_count": 15,
   "id": "225f2580",
   "metadata": {},
   "outputs": [
    {
     "data": {
      "text/html": [
       "<div>\n",
       "<style scoped>\n",
       "    .dataframe tbody tr th:only-of-type {\n",
       "        vertical-align: middle;\n",
       "    }\n",
       "\n",
       "    .dataframe tbody tr th {\n",
       "        vertical-align: top;\n",
       "    }\n",
       "\n",
       "    .dataframe thead th {\n",
       "        text-align: right;\n",
       "    }\n",
       "</style>\n",
       "<table border=\"1\" class=\"dataframe\">\n",
       "  <thead>\n",
       "    <tr style=\"text-align: right;\">\n",
       "      <th></th>\n",
       "      <th>Store</th>\n",
       "      <th>Q2_Weekly_Sales</th>\n",
       "      <th>Q3_Weekly_Sales</th>\n",
       "      <th>Growth_Rate</th>\n",
       "    </tr>\n",
       "  </thead>\n",
       "  <tbody>\n",
       "    <tr>\n",
       "      <th>15</th>\n",
       "      <td>16</td>\n",
       "      <td>6626133.44</td>\n",
       "      <td>6441311.11</td>\n",
       "      <td>-0.03</td>\n",
       "    </tr>\n",
       "  </tbody>\n",
       "</table>\n",
       "</div>"
      ],
      "text/plain": [
       "    Store  Q2_Weekly_Sales  Q3_Weekly_Sales  Growth_Rate\n",
       "15     16       6626133.44       6441311.11        -0.03"
      ]
     },
     "execution_count": 15,
     "metadata": {},
     "output_type": "execute_result"
    }
   ],
   "source": [
    "# Now the find growth rate of Q3.\n",
    "\n",
    "#Calculating Growth rate of each Store and collecting it into a dataframe-------------------------\n",
    "\n",
    "\n",
    "Q3_Growth['Growth_Rate'] =(Q3_Growth['Q3_Weekly_Sales'] - Q3_Growth['Q2_Weekly_Sales'])/Q3_Growth['Q2_Weekly_Sales']\n",
    "Q3_Growth['Growth_Rate']=round(Q3_Growth['Growth_Rate'],2)\n",
    "Q3_Growth.sort_values('Growth_Rate',ascending=False).head(1)\n"
   ]
  },
  {
   "cell_type": "code",
   "execution_count": 16,
   "id": "6a65b768",
   "metadata": {},
   "outputs": [
    {
     "data": {
      "text/html": [
       "<div>\n",
       "<style scoped>\n",
       "    .dataframe tbody tr th:only-of-type {\n",
       "        vertical-align: middle;\n",
       "    }\n",
       "\n",
       "    .dataframe tbody tr th {\n",
       "        vertical-align: top;\n",
       "    }\n",
       "\n",
       "    .dataframe thead th {\n",
       "        text-align: right;\n",
       "    }\n",
       "</style>\n",
       "<table border=\"1\" class=\"dataframe\">\n",
       "  <thead>\n",
       "    <tr style=\"text-align: right;\">\n",
       "      <th></th>\n",
       "      <th>Store</th>\n",
       "      <th>Q2_Weekly_Sales</th>\n",
       "      <th>Q3_Weekly_Sales</th>\n",
       "      <th>Growth_Rate</th>\n",
       "    </tr>\n",
       "  </thead>\n",
       "  <tbody>\n",
       "    <tr>\n",
       "      <th>13</th>\n",
       "      <td>14</td>\n",
       "      <td>24427769.06</td>\n",
       "      <td>20140430.4</td>\n",
       "      <td>-0.18</td>\n",
       "    </tr>\n",
       "  </tbody>\n",
       "</table>\n",
       "</div>"
      ],
      "text/plain": [
       "    Store  Q2_Weekly_Sales  Q3_Weekly_Sales  Growth_Rate\n",
       "13     14      24427769.06       20140430.4        -0.18"
      ]
     },
     "execution_count": 16,
     "metadata": {},
     "output_type": "execute_result"
    }
   ],
   "source": [
    "Q3_Growth.sort_values('Growth_Rate',ascending=False).tail(1)"
   ]
  },
  {
   "cell_type": "markdown",
   "id": "96e5f825",
   "metadata": {},
   "source": [
    "From above two tables we can observe that Q3 growth rate is in losses and the Store 16 has the least loss of 3% compared the other stores and store 14 has highest loss of 18%."
   ]
  },
  {
   "cell_type": "markdown",
   "id": "a87dcc88",
   "metadata": {},
   "source": [
    "# IV- Holidays which have higher sales than the mean sales in non-holiday season "
   ]
  },
  {
   "cell_type": "code",
   "execution_count": 17,
   "id": "b38f1f50",
   "metadata": {},
   "outputs": [
    {
     "data": {
      "text/plain": [
       "Holiday_Flag\n",
       "0    1.041256e+06\n",
       "1    1.122888e+06\n",
       "Name: Weekly_Sales, dtype: float64"
      ]
     },
     "execution_count": 17,
     "metadata": {},
     "output_type": "execute_result"
    }
   ],
   "source": [
    "#finding the mean sales of non holiday and holiday \n",
    "data.groupby('Holiday_Flag')['Weekly_Sales'].mean()"
   ]
  },
  {
   "cell_type": "code",
   "execution_count": 18,
   "id": "bd21521e",
   "metadata": {},
   "outputs": [],
   "source": [
    "# marking the holkidays-------------\n",
    "SuperBowl1=pd.Timestamp(date(2010,9,12))\n",
    "SuperBowl2=pd.Timestamp(date(2011,9,11))\n",
    "SuperBowl3=pd.Timestamp(date(2012,9,10))\n",
    "SuperBowl4=pd.Timestamp(date(2013,9,8))"
   ]
  },
  {
   "cell_type": "code",
   "execution_count": 19,
   "id": "575ef272",
   "metadata": {},
   "outputs": [],
   "source": [
    "LabourDay1=pd.Timestamp(date(2010,2,10) )\n",
    "LabourDay2=pd.Timestamp(date(2011,2,9) )\n",
    "LabourDay3=pd.Timestamp(date(2012,2,7) )\n",
    "LabourDay4=pd.Timestamp(date(2013,2,6) )"
   ]
  },
  {
   "cell_type": "code",
   "execution_count": 20,
   "id": "5e1f996a",
   "metadata": {},
   "outputs": [],
   "source": [
    "Thanksgiving1=pd.Timestamp(date(2010,11,26) )\n",
    "Thanksgiving2=pd.Timestamp(date(2011,11,25) )\n",
    "Thanksgiving3=pd.Timestamp(date(2012,11,23) )\n",
    "Thanksgiving4=pd.Timestamp(date(2013,11,29) )\n"
   ]
  },
  {
   "cell_type": "code",
   "execution_count": 21,
   "id": "f09dff5b",
   "metadata": {},
   "outputs": [],
   "source": [
    "Christmas1 = pd.Timestamp(date(2010,12,31) )\n",
    "Christmas2 = pd.Timestamp(date(2011,12,30) )\n",
    "Christmas3 = pd.Timestamp(date(2012,12,28) )\n",
    "Christmas4 = pd.Timestamp(date(2013,12,27) )"
   ]
  },
  {
   "cell_type": "code",
   "execution_count": 22,
   "id": "6844475e",
   "metadata": {},
   "outputs": [],
   "source": [
    "#Calculating the mean sales during the holidays---------------\n",
    "\n",
    "\n",
    "Christmas_mean_sales=data[(data['Date'] == Christmas1) | (data['Date'] == Christmas2) | (data['Date'] == Christmas3) | (data['Date'] == Christmas4)]\n",
    "Thanksgiving_mean_sales=data[(data['Date'] == Thanksgiving1) | (data['Date'] == Thanksgiving2) | (data['Date'] == Thanksgiving3) | (data['Date'] == Thanksgiving4)]\n",
    "LabourDay_mean_sales=data[(data['Date'] == LabourDay1) | (data['Date'] == LabourDay2) | (data['Date'] == LabourDay3) | (data['Date'] == LabourDay4)]\n",
    "SuperBowl_mean_sales=data[(data['Date'] == SuperBowl1) | (data['Date'] == SuperBowl2) | (data['Date'] == SuperBowl3) | (data['Date'] == SuperBowl4)]\n",
    "\n"
   ]
  },
  {
   "cell_type": "code",
   "execution_count": 23,
   "id": "562160d8",
   "metadata": {},
   "outputs": [
    {
     "data": {
      "text/plain": [
       "{'Christmas_mean_sales': 960833.11,\n",
       " 'Thanksgiving_mean_sales': 1471273.43,\n",
       " 'LabourDay_mean_sales': 1008369.41,\n",
       " 'SuperBowl_mean_sales': nan,\n",
       " 'Non holiday weekly sales': 1041256.3802088564}"
      ]
     },
     "execution_count": 23,
     "metadata": {},
     "output_type": "execute_result"
    }
   ],
   "source": [
    "# listing the mean sales---------------------\n",
    "\n",
    "\n",
    "list_of_mean_sales = {'Christmas_mean_sales' : round(Christmas_mean_sales['Weekly_Sales'].mean(),2),\n",
    "'Thanksgiving_mean_sales': round(Thanksgiving_mean_sales['Weekly_Sales'].mean(),2),\n",
    "'LabourDay_mean_sales' : round(LabourDay_mean_sales['Weekly_Sales'].mean(),2),\n",
    "'SuperBowl_mean_sales':round(SuperBowl_mean_sales['Weekly_Sales'].mean(),2),\n",
    "'Non holiday weekly sales' : data[data['Holiday_Flag'] == 0 ]['Weekly_Sales'].mean()}\n",
    "\n",
    "\n",
    "list_of_mean_sales\n"
   ]
  },
  {
   "cell_type": "markdown",
   "id": "98899ee9",
   "metadata": {},
   "source": [
    "The mean sales of Thanks_giving is more than the non holiday weekly sales ."
   ]
  },
  {
   "cell_type": "markdown",
   "id": "80d9b401",
   "metadata": {},
   "source": [
    "## V- Monthly and Semester Sales"
   ]
  },
  {
   "cell_type": "markdown",
   "id": "0e3dc246",
   "metadata": {},
   "source": [
    "## Monthly sales"
   ]
  },
  {
   "cell_type": "code",
   "execution_count": 24,
   "id": "b9f371cc",
   "metadata": {},
   "outputs": [
    {
     "data": {
      "text/plain": [
       "Text(0, 0.5, 'Weekly_Sales')"
      ]
     },
     "execution_count": 24,
     "metadata": {},
     "output_type": "execute_result"
    },
    {
     "data": {
      "image/png": "[encoded data removed]",
      "text/plain": [
       "<Figure size 720x576 with 1 Axes>"
      ]
     },
     "metadata": {
      "needs_background": "light"
     },
     "output_type": "display_data"
    }
   ],
   "source": [
    "monthly = data.groupby(pd.Grouper(key='Date', freq='1M')).sum()# groupby each 1 month\n",
    "monthly=monthly.reset_index()\n",
    "\n",
    "fig, ax = plt.subplots(figsize=(10,8))\n",
    "X = monthly['Date']\n",
    "Y = monthly['Weekly_Sales']\n",
    "plt.plot(X,Y)\n",
    "plt.title('Month Wise Sales')\n",
    "plt.xlabel('Monthly')\n",
    "plt.ylabel('Weekly_Sales')\n"
   ]
  },
  {
   "cell_type": "markdown",
   "id": "217632c7",
   "metadata": {},
   "source": [
    "In the Monthly_Sales Graph it is understood that the highest sum of sales is recorded in between jan-2011 to march-2011."
   ]
  },
  {
   "cell_type": "markdown",
   "id": "4cbdf082",
   "metadata": {},
   "source": [
    "## Semester Sales"
   ]
  },
  {
   "cell_type": "code",
   "execution_count": 25,
   "id": "d2463722",
   "metadata": {},
   "outputs": [
    {
     "data": {
      "text/plain": [
       "Text(0, 0.5, 'Weekly_Sales')"
      ]
     },
     "execution_count": 25,
     "metadata": {},
     "output_type": "execute_result"
    },
    {
     "data": {
      "image/png": "[encoded data removed]",
      "text/plain": [
       "<Figure size 720x576 with 1 Axes>"
      ]
     },
     "metadata": {
      "needs_background": "light"
     },
     "output_type": "display_data"
    }
   ],
   "source": [
    "Semester = data.groupby(pd.Grouper(key='Date', freq='6M')).sum()\n",
    "Semester = Semester.reset_index()\n",
    "\n",
    "fig, ax = plt.subplots(figsize=(10,8))\n",
    "X = Semester['Date']\n",
    "Y = Semester['Weekly_Sales']\n",
    "plt.plot(X,Y)\n",
    "plt.title('Semester Wise Sales')\n",
    "plt.xlabel('Semester')\n",
    "plt.ylabel('Weekly_Sales')"
   ]
  },
  {
   "cell_type": "markdown",
   "id": "1fa7a350",
   "metadata": {},
   "source": [
    "In the Semester Sales graph it is understood that at beginning of 1st sem of 2010 and 1st sem of 2013 sales are lowest ."
   ]
  },
  {
   "cell_type": "markdown",
   "id": "89eb6978",
   "metadata": {},
   "source": [
    "## Conclusion"
   ]
  },
  {
   "cell_type": "markdown",
   "id": "f0b2dabb",
   "metadata": {},
   "source": [
    "Store 14 has the maximum sales.\n",
    "\n",
    "The Store 14 has the maximum standard deviation which we can conclude that sales in store 14 varies most.\n",
    "\n",
    "Q3 growth rate is in losses compare Q2 and the Store 16 has the least loss of 3% compared the other stores and store 14 has highest loss of 18%.\n",
    "\n",
    "Holidays which have higher sales than the mean sales in non-holiday season is during Thanks giving holidays.\n",
    "\n",
    "During the Monthly_Sales the highest sum of sales is recorded in between jan-2011 to march-2011.\n",
    "\n",
    "And during the Semester Sales  it is understood that at beginning of 1st sem of 2010 and 1st sem of 2013 sales are lowest .\n"
   ]
  },
  {
   "cell_type": "code",
   "execution_count": null,
   "id": "ac25d453",
   "metadata": {},
   "outputs": [],
   "source": []
  }
 ],
 "metadata": {
  "kernelspec": {
   "display_name": "Python 3 (ipykernel)",
   "language": "python",
   "name": "python3"
  },
  "language_info": {
   "codemirror_mode": {
    "name": "ipython",
    "version": 3
   },
   "file_extension": ".py",
   "mimetype": "text/x-python",
   "name": "python",
   "nbconvert_exporter": "python",
   "pygments_lexer": "ipython3",
   "version": "3.9.7"
  }
 },
 "nbformat": 4,
 "nbformat_minor": 5
}
